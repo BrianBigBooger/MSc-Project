{
 "cells": [
  {
   "cell_type": "code",
   "execution_count": 1,
   "id": "c6a63763-1376-4d4a-bd56-017d0b4bd657",
   "metadata": {},
   "outputs": [],
   "source": [
    "import numpy as np\n",
    "import math as m\n",
    "import matplotlib.pyplot as plt\n",
    "from scipy.ndimage import gaussian_filter\n",
    "import scipy.fft as fft\n",
    "from matplotlib.animation import FuncAnimation\n",
    "from IPython.display import HTML\n",
    "from scipy.stats import levy\n",
    "from iminuit import Minuit\n"
   ]
  },
  {
   "cell_type": "markdown",
   "id": "045edee8-dbc7-490a-af9c-cc4f0675ab1b",
   "metadata": {},
   "source": [
    "Initial parameters"
   ]
  },
  {
   "cell_type": "code",
   "execution_count": 2,
   "id": "09607755-3173-4b4b-a823-6371fda85f41",
   "metadata": {},
   "outputs": [],
   "source": [
    "s_dim = 750 #Length and height\n",
    "w_dim = 75 #Depth\n",
    "\n",
    "N = 10 #Number of particles\n",
    "radius = 20 #[nm]\n",
    "s_bounds = (0 + radius, s_dim - radius) #Boundaries\n",
    "w_bounds =(0 + radius, w_dim - radius) #Boundaries\n",
    "diff = 1.0 #Diffusion coeff\n",
    "\n",
    "\n",
    "dev = 50 #std for normal distribution\n",
    "dev_z = 20\n",
    "roi_params = [int(s_dim / 10), int(s_dim / 3)] #roi\n",
    "\n",
    "p_amount = int(N * 0.2) #How many particles to move\n",
    "step_size = [1,5] #Size of step\n",
    "\n",
    "n_frames = 80 #Amoun of images to generate\n",
    "sl = int(w_dim / 2)"
   ]
  },
  {
   "cell_type": "code",
   "execution_count": 3,
   "id": "d957ce22-87b8-426a-9f54-27cac7b6eafd",
   "metadata": {},
   "outputs": [
    {
     "data": {
      "text/plain": [
       "0.007943187351298637"
      ]
     },
     "execution_count": 3,
     "metadata": {},
     "output_type": "execute_result"
    }
   ],
   "source": [
    "conc = (N * (4/3) * np.pi * radius ** 3) / (s_dim ** 2 * w_dim) \n",
    "conc"
   ]
  },
  {
   "cell_type": "markdown",
   "id": "e6a3a5dd-7a31-4b42-aaf3-95252f04d3e5",
   "metadata": {},
   "source": [
    "Create initial sample"
   ]
  },
  {
   "cell_type": "code",
   "execution_count": 4,
   "id": "144a2cfe-1ee9-4136-aee9-f70aeb04cce8",
   "metadata": {},
   "outputs": [
    {
     "data": {
      "text/plain": [
       "8.660254037844387"
      ]
     },
     "execution_count": 4,
     "metadata": {},
     "output_type": "execute_result"
    }
   ],
   "source": [
    "np.linalg.norm(np.array([0,0,0]) - np.array([5,5,5]))"
   ]
  },
  {
   "cell_type": "code",
   "execution_count": 5,
   "id": "7301a05d-0acb-49ca-b2d4-1bc093b39c5b",
   "metadata": {},
   "outputs": [],
   "source": [
    "def p_locs(N, s_dim, min_distance):\n",
    "    '''\n",
    "    Creates an array of particle locations with:\n",
    "    N -> amount of particles\n",
    "    s_dim -> dimensions\n",
    "    min_distance -> minimum distance between particles\n",
    "    radius -> radius of the particles\n",
    "    s_bounds -> spatial bounds for x and y dimensions\n",
    "    w_bounds -> spatial bounds for z dimension\n",
    "    dev -> standard deviation for normal distribution\n",
    "    '''\n",
    "    \n",
    "    positions = []\n",
    "    center = [(s_bounds[0] + s_bounds[1]) / 2, (s_bounds[0] + s_bounds[1]) / 2, \n",
    "              (w_bounds[0] + w_bounds[1]) / 2]\n",
    "\n",
    "    while len(positions) < N:\n",
    "        # Generate new position with a normal distribution centered at the center\n",
    "        xy = np.random.normal(loc = center[0], scale = dev, size = (2,))\n",
    "        zz = np.random.normal(loc = center[2], scale = dev_z, size = (1,))\n",
    "        \n",
    "        new_pos = np.hstack((xy, zz))\n",
    "        \n",
    "        # Ensure new position is within bounds\n",
    "        if ((s_bounds[0] + radius <= new_pos[0] <= s_bounds[1] - radius) and \n",
    "            (s_bounds[0] + radius <= new_pos[1] <= s_bounds[1] - radius) and \n",
    "            (w_bounds[0] + radius <= new_pos[2] <= w_bounds[1] - radius)):\n",
    "            \n",
    "            # Check distances from existing particles\n",
    "            if len(positions) > 0:\n",
    "                distances = np.linalg.norm(new_pos - np.array(positions), axis=1)\n",
    "                if np.all(distances >= min_distance):\n",
    "                    positions.append(new_pos)\n",
    "            else:\n",
    "                positions.append(new_pos)\n",
    "\n",
    "    return np.array(positions)\n",
    "\n",
    "def sample(locs): \n",
    "    '''\n",
    "    Places the particle's location in a matrix - creating the sample matrix\n",
    "    '''\n",
    "    sample = np.zeros((s_dim, s_dim, w_dim))\n",
    "    for i in range(len(locs)):\n",
    "        xx, yy, zz = np.meshgrid(range(s_dim), range(s_dim), range(w_dim))\n",
    "        dist_squared = (xx - locs[:,0][i]) ** 2 + (yy - locs[:,1][i] ) ** 2 + (zz - locs[:,2][i]) ** 2\n",
    "        sample[dist_squared <= radius ** 2] = 1\n",
    "    \n",
    "    return sample"
   ]
  },
  {
   "cell_type": "code",
   "execution_count": 6,
   "id": "369d7caf-e47b-4ed4-9ead-ce7f007cfcbd",
   "metadata": {},
   "outputs": [],
   "source": [
    "def sample1(locs, radius):\n",
    "    '''\n",
    "    Places the particle's location in a matrix\n",
    "    locs: array of particle locations\n",
    "    radius: radius of particles\n",
    "    '''\n",
    "    sample = np.zeros((s_dim, s_dim, w_dim))\n",
    "    xx, yy, zz = np.meshgrid(np.arange(s_dim), np.arange(s_dim), np.arange(w_dim), indexing='ij')\n",
    "    \n",
    "    for loc in locs:\n",
    "        dist_squared = (xx - loc[0]) ** 2 + (yy - loc[1]) ** 2 + (zz - loc[2]) ** 2\n",
    "        sample[dist_squared <= radius ** 2] = 1\n",
    "    \n",
    "    return sample"
   ]
  },
  {
   "cell_type": "code",
   "execution_count": 7,
   "id": "56e1ad2e-5593-474e-b474-b5e0e467ab64",
   "metadata": {},
   "outputs": [],
   "source": [
    "#x,y,z = np.random.normal(loc = 3, scale = 0, size=3)\n",
    "\n",
    "#(x**2 + y**2 + z**2) ** (1/3)"
   ]
  },
  {
   "cell_type": "code",
   "execution_count": 8,
   "id": "452f5ae4-5334-44fd-853c-2da7dbf0c4bc",
   "metadata": {},
   "outputs": [],
   "source": [
    "def brown_motion(ip, step, diff, bounds, width_bounds, p_amount):\n",
    "    '''\n",
    "    Function to give particles brownian motion.\n",
    "    ip: initial position of particles\n",
    "    step: max and minimum size of steps particles can take\n",
    "    diff: diffusion factor\n",
    "    bounds, width_bounds: boundaries\n",
    "    p_amount: amount of particles being moved\n",
    "    \n",
    "    If particles collide / overlap, particle will return to its initial location\n",
    "    '''\n",
    "    \n",
    "    # Set up\n",
    "    old_positions = np.copy(ip)\n",
    "    new_positions = np.copy(ip)  \n",
    "    \n",
    "    # Moving x amount of particles\n",
    "    parts = np.random.randint(0, len(ip), p_amount)  # which particles to move\n",
    "\n",
    "    for i in range(len(parts)):\n",
    "        step_size = np.random.randint(step[0], step[1], 1)  # Step size of particle\n",
    "        p_step = np.random.normal(scale = np.sqrt(2 * diff * step_size), size=3)  # Change coordinate\n",
    "        new_positions[parts[i]] = ip[parts[i]] + p_step\n",
    "            \n",
    "        # Boundary conditions - periodic\n",
    "        for j in range(2):  # Loop over x, y dimensions\n",
    "            if new_positions[parts[i]][j] + radius > bounds[1]:\n",
    "                new_positions[parts[i]][j] = bounds[0] + radius\n",
    "            elif new_positions[parts[i]][j] - radius < bounds[0]:\n",
    "                new_positions[parts[i]][j] = bounds[1] - radius\n",
    "        \n",
    "        # Boundary conditions for depth\n",
    "        if new_positions[parts[i]][2] + 2 * radius > width_bounds[1]:\n",
    "            new_positions[parts[i]][2] = width_bounds[1] - radius\n",
    "        elif new_positions[parts[i]][2] - radius < width_bounds[0]:\n",
    "            new_positions[parts[i]][2] = width_bounds[0] + radius  \n",
    "                \n",
    "    # Collision avoidance in 3D\n",
    "    for i in range(len(new_positions)):\n",
    "        for j in range(i + 1, len(new_positions)):\n",
    "            dist = np.linalg.norm(new_positions[i] - new_positions[j])\n",
    "            if dist == 0:\n",
    "                dist = 2 * radius + 1 # when i = j, coords will be equal, this ignores that\n",
    "            elif dist < 2 * radius + 1:\n",
    "                # Calculate the direction of collision\n",
    "                #direction = (new_positions[j] - new_positions[i]) / dist\n",
    "                # Move the particles back along the collision direction\n",
    "                #new_positions[i] -= direction * (2 * radius - dist) / 2\n",
    "                #new_positions[j] += direction * (2 * radius - dist) / 2\n",
    "                new_positions[i] = old_positions[i]\n",
    "    \n",
    "    \n",
    "        return new_positions, old_positions\n"
   ]
  },
  {
   "cell_type": "code",
   "execution_count": 9,
   "id": "1c63a3b5-c69b-45f9-96cd-70ff1f33fffe",
   "metadata": {},
   "outputs": [],
   "source": [
    "def brown_motion_temp(ip, step, diff, bounds, width_bounds, p_amount, temp, radius):\n",
    "    '''\n",
    "    Function to give particles brownian motion with a temperature factor.\n",
    "    ip: initial position of particles\n",
    "    step: max and minimum size of steps particles can take\n",
    "    diff: diffusion factor\n",
    "    bounds, width_bounds: boundaries\n",
    "    p_amount: amount of particles being moved\n",
    "    temp: temperature of particles\n",
    "    radius: radius of particles\n",
    "    \n",
    "    If particles collide / overlap, particle will return to its initial location\n",
    "    '''\n",
    "    \n",
    "    # Set up\n",
    "    old_positions = np.copy(ip)\n",
    "    new_positions = np.copy(ip)  \n",
    "    \n",
    "    # Moving x amount of particles\n",
    "    parts = np.random.randint(0, len(ip), p_amount)  # which particles to move\n",
    "\n",
    "    for i in range(len(parts)):\n",
    "        temp_factor = np.sqrt(abs(np.random.normal(temp, scale = 10)))\n",
    "        step_size = np.random.randint(int(step[0] + 0.5 * temp_factor),\n",
    "                                      int(step[1] + 0.5 * temp_factor) , 1)  # Step size of particle\n",
    "        \n",
    "        p_step = np.random.normal(scale = np.sqrt(2 * diff * step_size), size=3)  # Change coordinate\n",
    "        new_positions[parts[i]] = ip[parts[i]] + p_step\n",
    "            \n",
    "        #print(p_step)    \n",
    "            \n",
    "        # Boundary conditions - periodic\n",
    "        for j in range(2):  # Loop over x, y dimensions\n",
    "            if new_positions[parts[i]][j] + radius > bounds[1]:\n",
    "                new_positions[parts[i]][j] = bounds[0] + radius\n",
    "            elif new_positions[parts[i]][j] - radius < bounds[0]:\n",
    "                new_positions[parts[i]][j] = bounds[1] - radius\n",
    "        \n",
    "        # Boundary conditions for depth\n",
    "        if new_positions[parts[i]][2] + 2 * radius > width_bounds[1]:\n",
    "            new_positions[parts[i]][2] = width_bounds[1] - radius\n",
    "        elif new_positions[parts[i]][2] - radius < width_bounds[0]:\n",
    "            new_positions[parts[i]][2] = width_bounds[0] + radius  \n",
    "                \n",
    "    # Collision avoidance in 3D\n",
    "    for i in range(len(new_positions)):\n",
    "        for j in range(i + 1, len(new_positions)):\n",
    "            dist = np.linalg.norm(new_positions[i] - new_positions[j])\n",
    "            if dist == 0:\n",
    "                dist = 2 * radius + 1 # when i = j, coords will be equal, this ignores that\n",
    "            elif dist < 2 * radius + 1:\n",
    "                # Calculate the direction of collision\n",
    "                #direction = (new_positions[j] - new_positions[i]) / dist\n",
    "                ## Move the particles back along the collision direction\n",
    "                #new_positions[i] -= direction * (2 * radius - dist) / 2\n",
    "                #new_positions[j] += direction * (2 * radius - dist) / 2\n",
    "                new_positions[i] = old_positions[i]\n",
    "    \n",
    "    \n",
    "        return new_positions, old_positions\n",
    "\n",
    "    "
   ]
  },
  {
   "cell_type": "code",
   "execution_count": null,
   "id": "53b1548a-c45c-4f2c-baa2-be2c5cf65189",
   "metadata": {},
   "outputs": [],
   "source": [
    "locs = p_locs(N, s_dim, (2 * radius))"
   ]
  },
  {
   "cell_type": "code",
   "execution_count": null,
   "id": "09c5a485-ff91-4d1e-8371-b42c0af9d8e1",
   "metadata": {},
   "outputs": [],
   "source": [
    "b_locs, old_locs = brown_motion(locs, step_size, diff, s_bounds, w_bounds, p_amount)"
   ]
  },
  {
   "cell_type": "markdown",
   "id": "a67b6e69-d91f-421d-8573-98335611fff2",
   "metadata": {},
   "source": [
    "Illustration of one time step"
   ]
  },
  {
   "cell_type": "code",
   "execution_count": null,
   "id": "11ade3ed-d62d-41fb-bc0c-ca4363e3a7d1",
   "metadata": {},
   "outputs": [],
   "source": [
    "fig = plt.figure(figsize = (6,6))\n",
    "ax = fig.add_subplot(111, projection='3d')\n",
    "ax.scatter(locs[:,0], locs[:,1], locs[:,2], s = 50, c = 'red', label = 'old position')\n",
    "ax.scatter(b_locs[:,0], b_locs[:,1], b_locs[:,2], s = 50, c = 'g', label = 'new position')\n",
    "ax.set_xlim(s_bounds)\n",
    "ax.set_ylim(s_bounds)\n",
    "ax.set_zlim(w_bounds)\n",
    "plt.legend()"
   ]
  },
  {
   "cell_type": "code",
   "execution_count": null,
   "id": "97954f6f-38e0-4e62-8a0d-2f444c33ad2f",
   "metadata": {},
   "outputs": [],
   "source": [
    "plt.imshow(sample(locs)[:,:,sl])"
   ]
  },
  {
   "cell_type": "markdown",
   "id": "a5acaa8d-40c1-471d-a112-0ed6709b41be",
   "metadata": {},
   "source": [
    "Create frames of particles moving"
   ]
  },
  {
   "cell_type": "code",
   "execution_count": null,
   "id": "d4f6b4ad-ba8b-4b0b-97a2-b7677554e29b",
   "metadata": {},
   "outputs": [],
   "source": [
    "def frame_generator(locs, n_frames):\n",
    "    '''\n",
    "    Takes initial locations and moves them around, storing each step in a 'frame'\n",
    "    and updating initial locations to the new locations.\n",
    "    locs: initial locations\n",
    "    n_frames: amount of frames to gather\n",
    "    '''\n",
    "    n = 0\n",
    "    il = np.copy(locs)\n",
    "    nl = []\n",
    "    while n < n_frames:\n",
    "        new_l, old_l = brown_motion(il, step_size, diff, \n",
    "                                    s_bounds, w_bounds, p_amount)\n",
    "        nn = np.vstack(new_l)\n",
    "        nl.append(nn)\n",
    "        il = nn\n",
    "        n += 1\n",
    "        \n",
    "    frames = []\n",
    "    for i in range(len(nl)):\n",
    "        fr = sample(nl[i])\n",
    "        frames.append(fr)\n",
    "        print(i)\n",
    "    return np.array(frames)"
   ]
  },
  {
   "cell_type": "code",
   "execution_count": null,
   "id": "7021d0ad-1002-47e4-b3b8-1a503d6c0800",
   "metadata": {},
   "outputs": [],
   "source": [
    "def frame_generator_temp(locs, n_frames, t_min, t_max):\n",
    "    '''\n",
    "    Takes initial locations and moves them around, storing each step in a 'frame'\n",
    "    and updating initial locations to the new locations.\n",
    "    locs: initial locations\n",
    "    n_frames: amount of frames to gather\n",
    "    '''\n",
    "    n = 0\n",
    "    il = np.copy(locs)\n",
    "    nl = []\n",
    "    temps = np.linspace(t_min, t_max, n_frames)\n",
    "    rad = np.linspace(radius + (t_min / 10), radius + (t_max / 10), n_frames)\n",
    "    while n < n_frames:\n",
    "        new_l, old_l = brown_motion_temp(il, step_size, diff, \n",
    "                                    s_bounds, w_bounds, p_amount,\n",
    "                                   temps[n], rad[n])\n",
    "        nn = np.vstack(new_l)\n",
    "        nl.append(nn)\n",
    "        il = nn\n",
    "        n += 1\n",
    "        \n",
    "    frames = []\n",
    "    for i in range(len(nl)):\n",
    "        fr = sample1(nl[i], rad[i])\n",
    "        frames.append(fr)\n",
    "        print(i)\n",
    "    return np.array(frames)"
   ]
  },
  {
   "cell_type": "code",
   "execution_count": null,
   "id": "5b5e9691-17ce-492b-828d-12647fef3b39",
   "metadata": {},
   "outputs": [],
   "source": [
    "frames_t = frame_generator(locs, n_frames)\n",
    "#frames_t = frame_generator_temp(locs, n_frames, 10, 20) "
   ]
  },
  {
   "cell_type": "code",
   "execution_count": null,
   "id": "79fa3e36-2ce8-40cb-8a56-83dd32c35197",
   "metadata": {},
   "outputs": [],
   "source": [
    "plt.imshow(frames_t[10,:,:,sl])"
   ]
  },
  {
   "cell_type": "code",
   "execution_count": null,
   "id": "4b77319d-73ea-4582-905b-1b9ac35617a4",
   "metadata": {},
   "outputs": [],
   "source": [
    "plt.imshow(frames_t[0,:,:,sl])"
   ]
  },
  {
   "cell_type": "markdown",
   "id": "e4ec5710-d61b-4014-80f9-a295ac71d3f0",
   "metadata": {},
   "source": [
    "Simulation of movement"
   ]
  },
  {
   "cell_type": "code",
   "execution_count": null,
   "id": "8fd74675-b2ad-41e3-8a6e-909a1556b910",
   "metadata": {},
   "outputs": [],
   "source": [
    "def animation(frames, sl, show = True):\n",
    "    if show == True:\n",
    "        num_frames = len(frames)\n",
    "        fig, ax = plt.subplots()\n",
    "        im = ax.imshow(frames[0,:,:,sl], cmap='viridis')\n",
    "        temp_text = ax.text(0.05, 0.95, '', transform = ax.transAxes, \n",
    "                              color = 'white', fontsize = 12, ha = 'left', va = 'top')\n",
    "        #rad_text = ax.text(0.1, 0.95, '', transform = ax.transAxes,\n",
    "        #                      color = 'white', fontsize = 12, ha = 'left', va = 'top')\n",
    "        \n",
    "        def update(frame):\n",
    "            im.set_array(frames[frame,:,:,sl]) \n",
    "            #temp_text.set_text(f'Temperature: {np.round(temps[frame], 2)} K')\n",
    "            #rad_text.set_text(f'Radius: {np.round(rad[frame], 2)} nm')\n",
    "            return [im]\n",
    "    \n",
    "        ani = FuncAnimation(fig, update, frames=num_frames, interval=150, blit=True)\n",
    "        return HTML(ani.to_jshtml())\n",
    "    else:\n",
    "        return plt.imshow(frames[0])"
   ]
  },
  {
   "cell_type": "code",
   "execution_count": null,
   "id": "b174a57e-3ff9-48b0-8c3b-0c0449f96565",
   "metadata": {},
   "outputs": [],
   "source": [
    "animation(frames_t, sl, show = True)"
   ]
  },
  {
   "cell_type": "markdown",
   "id": "93a7b1fe-35c3-4065-9201-a341bd7f344f",
   "metadata": {},
   "source": [
    "Simulate beam interaction and calculate scattering intensities"
   ]
  },
  {
   "cell_type": "code",
   "execution_count": null,
   "id": "0002d746-e31e-4487-9e3f-5a23f87f00af",
   "metadata": {},
   "outputs": [],
   "source": [
    "pixel_size = 2# Pixel size\n",
    "sample_detector_distance = 8e6  # Sample-detector distance \n",
    "wavelength = 1 # Wavelength "
   ]
  },
  {
   "cell_type": "code",
   "execution_count": null,
   "id": "01f6fd81-c9c7-4982-b298-760185a90b19",
   "metadata": {},
   "outputs": [],
   "source": [
    "def specks(frames):\n",
    "    \n",
    "    '''\n",
    "    Takes frames as input and calculates scattering intensities for each slice of the 3d sample\n",
    "    frames: different sample configurations\n",
    "    '''\n",
    "    spekls = []\n",
    "    speqls = []\n",
    "    for i in range(len(frames)):\n",
    "        samp = frames[i]\n",
    "        \n",
    "        ny, nx, nz = samp.shape  \n",
    "        qy, qx, qz = np.meshgrid(np.fft.fftfreq(ny, pixel_size), \n",
    "                         np.fft.fftfreq(nx, pixel_size),\n",
    "                         np.fft.fftfreq(nz, pixel_size), indexing='ij')\n",
    "\n",
    "\n",
    "        q = np.sqrt(qx ** 2 + qy ** 2 + qz ** 2)\n",
    "\n",
    "        \n",
    "        sc_intens = np.abs(fft.fftn(samp)) ** 2  \n",
    "        sc_intens_q = np.fft.fftshift(fft.fftn(samp))  \n",
    "\n",
    "       \n",
    "        beam_profile = np.exp(- (q ** 2) / (4 * (1 / wavelength) ** 2))\n",
    "\n",
    "        \n",
    "        intens = fft.fftshift(fft.ifftn(fft.fftn(sc_intens) * fft.fftn(beam_profile)))\n",
    "        intens_q = fft.fftshift(fft.ifftn(fft.fftn(sc_intens_q) * fft.fftn(beam_profile)))\n",
    "\n",
    "        \n",
    "        spek = np.abs(intens) ** 2  \n",
    "        speq = np.abs(intens_q) ** 2  \n",
    "        \n",
    "        spekls.append(spek)\n",
    "        speqls.append(speq)\n",
    "        \n",
    "        print(i)\n",
    "        \n",
    "    return np.array(spekls), np.array(speqls)"
   ]
  },
  {
   "cell_type": "code",
   "execution_count": null,
   "id": "48ebc19b-0f87-4267-b2e2-816ead893221",
   "metadata": {},
   "outputs": [],
   "source": [
    "#spk, spq = specks(frames)\n",
    "spk_t, spq_t = specks(frames_t)"
   ]
  },
  {
   "cell_type": "code",
   "execution_count": null,
   "id": "189a92ea-d594-4bc8-8444-3746072b3d83",
   "metadata": {},
   "outputs": [],
   "source": [
    "plt.figure(figsize = (7,7))\n",
    "plt.imshow(np.log(spq_t[36,:,:,sl]), cmap = 'viridis')\n",
    "#plt.xlim(100,150)\n",
    "#plt.ylim(100,150)"
   ]
  },
  {
   "cell_type": "code",
   "execution_count": null,
   "id": "204961cc-3aab-48ea-97bf-d81c7f3b2f48",
   "metadata": {},
   "outputs": [],
   "source": [
    "avg = np.mean(spq_t[:,:,:,sl-2:sl+2], axis = 3)"
   ]
  },
  {
   "cell_type": "code",
   "execution_count": null,
   "id": "3a85a8ae-e1a5-42b6-980a-ae5d319fed92",
   "metadata": {},
   "outputs": [],
   "source": [
    "plt.imshow(np.log(avg[36]))"
   ]
  },
  {
   "cell_type": "markdown",
   "id": "0293c3db-f0a4-4b4d-9c8b-c51ce2999223",
   "metadata": {},
   "source": [
    "Analysis: Azimuthal, TTCF, and g2"
   ]
  },
  {
   "cell_type": "code",
   "execution_count": null,
   "id": "f54a1282-1ff1-48c5-9de6-9df0dd2b88ca",
   "metadata": {},
   "outputs": [],
   "source": [
    "def azimuthal_int(image):\n",
    "    '''\n",
    "    Calculates azimuthal integration of SAXS pattern\n",
    "    image: the frame you want to look at\n",
    "    '''\n",
    "    im = image\n",
    "    center = (s_dim / 2, s_dim / 2)\n",
    "    d = m.floor(np.sqrt(center[0] ** 2 + center[1] ** 2))\n",
    "    \n",
    "    centered = np.meshgrid(np.arange(s_dim) - center[0], np.arange(s_dim) - center[1])\n",
    "    rad = np.sqrt((centered[0] ** 2 + (centered[1] ** 2)))\n",
    "                  \n",
    "    r = np.linspace(1, int(center[0]) + 1, int(center[0]))\n",
    "                  \n",
    "    d = lambda r : im [(rad >= r - 0.5) & (rad < r + 0.5)].mean()\n",
    "                  \n",
    "    mean_d = np.vectorize(d)(r)\n",
    "    \n",
    "    return mean_d"
   ]
  },
  {
   "cell_type": "code",
   "execution_count": null,
   "id": "08f4648d-06c7-4896-8955-011d7455cd81",
   "metadata": {},
   "outputs": [],
   "source": [
    "plt.plot(azimuthal_int(np.log((np.array(spq_t)[10,:,:,sl]))))\n",
    "plt.xscale('log')"
   ]
  },
  {
   "cell_type": "code",
   "execution_count": null,
   "id": "76ecb631-a2ca-45f2-854a-01628b275015",
   "metadata": {},
   "outputs": [],
   "source": [
    "plt.plot(azimuthal_int(np.log(avg[10])))\n",
    "plt.xscale('log')"
   ]
  },
  {
   "cell_type": "code",
   "execution_count": null,
   "id": "7d4246ee-630c-4440-8223-5dbb476bbc78",
   "metadata": {},
   "outputs": [],
   "source": [
    "def roi(ran, speqs, sl, avg = True):\n",
    "    if avg == True:\n",
    "        center = [s_dim / 2, s_dim / 2]\n",
    "        x, y = np.ogrid[:s_dim, :s_dim]\n",
    "        c_dist = np.sqrt((x - center[0]) ** 2 + (y - center[1]) ** 2)\n",
    "        mask = (c_dist <= ran[1]) & (c_dist >= ran[0])\n",
    "        rois = []\n",
    "        \n",
    "        for i in range(len(speqs)):\n",
    "            mat = np.zeros_like(speqs[i])\n",
    "            mat[mask] = speqs[i][mask]\n",
    "            rois.append(mat[mask])\n",
    "        return np.array(rois)\n",
    "        \n",
    "    else:\n",
    "        center = [s_dim / 2, s_dim / 2]\n",
    "        x, y = np.ogrid[:s_dim, :s_dim]\n",
    "        c_dist = np.sqrt((x - center[0]) ** 2 + (y - center[1]) ** 2)\n",
    "        mask = (c_dist <= ran[1]) & (c_dist >= ran[0])\n",
    "    \n",
    "        rois = []\n",
    "\n",
    "        for i in range(len(speqs)):\n",
    "            mat = np.zeros_like(speqs[i,:,:,sl])\n",
    "            mat[mask] = speqs[i,:,:,sl][mask]\n",
    "            rois.append(mat[mask])\n",
    "        \n",
    "    return np.array(rois)"
   ]
  },
  {
   "cell_type": "code",
   "execution_count": null,
   "id": "c5e3bf4c-7b97-420c-a031-61a0fb538cb5",
   "metadata": {},
   "outputs": [],
   "source": [
    "w = roi(roi_params, avg, sl, avg = True)\n",
    "w_t = roi(roi_params, spq_t, sl, avg = False)"
   ]
  },
  {
   "cell_type": "code",
   "execution_count": null,
   "id": "1b6b2929-9a40-4bc1-b05d-bc84da09f232",
   "metadata": {},
   "outputs": [],
   "source": [
    "ttcf_a = np.matmul(w, w.T)\n",
    "ttcf_t = np.matmul(w_t, w_t.T)"
   ]
  },
  {
   "cell_type": "code",
   "execution_count": null,
   "id": "52de83dd-d272-4f7a-aacc-f36b4e8c33f2",
   "metadata": {},
   "outputs": [],
   "source": [
    "plt.figure(figsize = (6,6))\n",
    "plt.imshow(ttcf_t / ttcf_t.max(), origin = 'lower', cmap = 'jet')\n",
    "plt.colorbar()"
   ]
  },
  {
   "cell_type": "code",
   "execution_count": null,
   "id": "a02ad8c6-e718-4099-ac5d-1878c0b1ae13",
   "metadata": {},
   "outputs": [],
   "source": [
    "def get_cf(ttcf,skip_last=0):\n",
    "    '''\n",
    "    Get g2 function from ttcf\n",
    "    '''\n",
    "    return np.array([np.nanmean(np.diagonal(ttcf,offset=i)) for i in range(1,len(ttcf)-skip_last)])\n",
    "\n",
    "def e_decay(dt,Gm,beta,off):\n",
    "    '''\n",
    "    Exponential decay fit function for g2\n",
    "    '''\n",
    "    g1 = np.exp(-Gm*dt)\n",
    "    g2 = beta*g1**2+off\n",
    "    return g2\n",
    "\n",
    "g2 = get_cf(ttcf_t / ttcf_t.max())\n",
    "t_steps = np.linspace(0, len(g2), len(g2))\n",
    "\n",
    "y_err = np.std(g2)"
   ]
  },
  {
   "cell_type": "code",
   "execution_count": null,
   "id": "a33f67c5-e8fc-4f05-bbe3-fbb953ba7e11",
   "metadata": {},
   "outputs": [],
   "source": [
    "def chi2(Gm,beta,off):\n",
    "    '''\n",
    "    chi2 function for fitting\n",
    "    '''\n",
    "    y_exp = e_decay(t_steps,Gm,beta,off)\n",
    "    chi2 = np.sum(((g2 - y_exp) / y_err) ** 2)\n",
    "    return chi2"
   ]
  },
  {
   "cell_type": "code",
   "execution_count": null,
   "id": "e6c2a165-f83c-4321-8d8c-b440cd6d3ab5",
   "metadata": {},
   "outputs": [],
   "source": [
    "fit = Minuit(chi2, beta = g2[0], Gm = 5, off = min(g2))\n",
    "fit.migrad()"
   ]
  },
  {
   "cell_type": "code",
   "execution_count": null,
   "id": "80f03119-78a7-427a-b9ac-fdcbabcf4ccf",
   "metadata": {},
   "outputs": [],
   "source": [
    "Gm, beta, off = fit.values\n",
    "\n",
    "curve_fit = e_decay(t_steps, Gm, beta, off)\n",
    "chi2_val = np.round(fit.fval, 2)\n",
    "\n",
    "plt.scatter(t_steps, get_cf(ttcf_t/ttcf_t.max()), s = 10, alpha = 0.5)\n",
    "plt.plot(curve_fit, color = 'r')\n",
    "plt.ylabel('g2 - 1')\n",
    "plt.xlabel(r'$\\Delta t \\quad [A.U]$')\n",
    "plt.xscale('log')\n",
    "plt.text(x = len(curve_fit) - len(curve_fit)/2, y = curve_fit[1],\n",
    "         s = r'$\\chi^{} = {}$'.format(2,chi2_val));"
   ]
  },
  {
   "cell_type": "code",
   "execution_count": null,
   "id": "af97a0c1-dea2-4489-91ef-aaeef4b055d0",
   "metadata": {},
   "outputs": [],
   "source": [
    "fit_params = ['Gm: Decay rate','beta: Contrast','off: Offset']\n",
    "for i in range(len(fit.values)):\n",
    "    print(fit_params[i],np.round(fit.values[i],4))"
   ]
  },
  {
   "cell_type": "code",
   "execution_count": null,
   "id": "00067ce2-804f-4e54-979d-69588e0c8352",
   "metadata": {},
   "outputs": [],
   "source": []
  },
  {
   "cell_type": "code",
   "execution_count": null,
   "id": "c1f5b456-d8b5-4bec-90b3-442cb1dfa2f4",
   "metadata": {},
   "outputs": [],
   "source": []
  },
  {
   "cell_type": "code",
   "execution_count": null,
   "id": "d8ea7861-2420-41ba-8fd3-468963e67453",
   "metadata": {},
   "outputs": [],
   "source": []
  },
  {
   "cell_type": "code",
   "execution_count": null,
   "id": "326ad4ea-57c6-4138-8cdd-81eca4b605d7",
   "metadata": {},
   "outputs": [],
   "source": []
  },
  {
   "cell_type": "code",
   "execution_count": null,
   "id": "f16ef70a-8f24-4f81-a838-cf6b61f8f527",
   "metadata": {},
   "outputs": [],
   "source": []
  },
  {
   "cell_type": "code",
   "execution_count": null,
   "id": "52278b18-1748-440b-8807-968a0e575d89",
   "metadata": {},
   "outputs": [],
   "source": []
  },
  {
   "cell_type": "code",
   "execution_count": null,
   "id": "d9c47c3c-9ed3-4058-b4d3-986a12fadd7d",
   "metadata": {},
   "outputs": [],
   "source": []
  }
 ],
 "metadata": {
  "kernelspec": {
   "display_name": "Python 3 (ipykernel)",
   "language": "python",
   "name": "python3"
  },
  "language_info": {
   "codemirror_mode": {
    "name": "ipython",
    "version": 3
   },
   "file_extension": ".py",
   "mimetype": "text/x-python",
   "name": "python",
   "nbconvert_exporter": "python",
   "pygments_lexer": "ipython3",
   "version": "3.11.7"
  }
 },
 "nbformat": 4,
 "nbformat_minor": 5
}
